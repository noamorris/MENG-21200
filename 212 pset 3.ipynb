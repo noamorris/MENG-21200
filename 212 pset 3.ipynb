{
 "cells": [
  {
   "cell_type": "code",
   "execution_count": 28,
   "id": "1f39b584",
   "metadata": {},
   "outputs": [],
   "source": [
    "import math\n",
    "import matplotlib.pyplot as plt\n",
    "import numpy as np\n",
    "import pandas as pd\n",
    "import seaborn as sns\n",
    "import scipy as sc\n",
    "from scipy.stats import linregress\n",
    "from scipy.optimize import root_scalar"
   ]
  },
  {
   "cell_type": "markdown",
   "id": "8c2201c3",
   "metadata": {},
   "source": [
    "# problem 1\n",
    "Employ inverse interpolation to determine the value of 𝑥 that corresponds to 𝑓(𝑥) = 0.85 for\n",
    "the following tabulated data:\n",
    "Note that the values in the table were generated with the function 𝑓(𝑥) = 𝑥^2\n",
    "/(1 + 𝑥^2\n",
    ")\n",
    "\n",
    "#### (a) Determine the correct value analytically."
   ]
  },
  {
   "cell_type": "code",
   "execution_count": 94,
   "id": "34db0f17",
   "metadata": {},
   "outputs": [
    {
     "name": "stdout",
     "output_type": "stream",
     "text": [
      "f(x)= 0.85 when x is 2.3805\n"
     ]
    }
   ],
   "source": [
    "x=[0,1,2,3,4,5]\n",
    "fx=[0,.5,.8,.9,.941176,.961538]\n",
    "\n",
    "def f(x):\n",
    "    return (x**2)/(1+(x**2))\n",
    "\n",
    "# isolate x: x = sqrt((.85**(-1)-1)**(-1))\n",
    "xtv=np.sqrt((.85**(-1)-1)**(-1))\n",
    "print(f'f(x)= {f(xtv)} when x is {round(xtv,4)}')"
   ]
  },
  {
   "cell_type": "markdown",
   "id": "ae3c3bdb",
   "metadata": {},
   "source": [
    "#### (b) Use cubic interpolation of 𝑥 versus 𝑓(𝑥). (Note the switching of axes here)"
   ]
  },
  {
   "cell_type": "code",
   "execution_count": 97,
   "id": "2b0c31c9",
   "metadata": {
    "scrolled": true
   },
   "outputs": [
    {
     "name": "stdout",
     "output_type": "stream",
     "text": [
      "f(x)= 0.8504526966775284 when x is 2.3847111825292675. the true relative percent error is 0.1779%\n"
     ]
    }
   ],
   "source": [
    "intpol = sc.interpolate.interp1d(fx, x, kind='cubic')\n",
    "xf=intpol(.85)\n",
    "trpe=(abs(xf-xtv)/xtv)*100\n",
    "print(f'f(x)= {f(xf)} when x is {(xf)}. \\\n",
    "the true relative percent error is {round(trpe,4)}%')"
   ]
  },
  {
   "cell_type": "markdown",
   "id": "2d64bacc",
   "metadata": {},
   "source": [
    "#### (c) Use inverse interpolation with quadratic interpolation and the quadratic formula"
   ]
  },
  {
   "cell_type": "code",
   "execution_count": 98,
   "id": "5269ada0",
   "metadata": {},
   "outputs": [
    {
     "name": "stdout",
     "output_type": "stream",
     "text": [
      "      converged: True\n",
      "           flag: 'converged'\n",
      " function_calls: 11\n",
      "     iterations: 10\n",
      "           root: 2.327166810156948\n",
      "\n",
      "f(x)= 0.8441 when x is 2.3272. the true relative percent error is 2.2394%\n"
     ]
    }
   ],
   "source": [
    "intpolq = sc.interpolate.interp1d(x, fx, kind=\"quadratic\")\n",
    "fofx=.85\n",
    "\n",
    "def intpolto(x):\n",
    "    return intpolq(x) - fofx\n",
    "\n",
    "print(root_scalar(intpolto, x0 = 0.5, bracket=[x[0],x[-1]]))\n",
    "\n",
    "root=root_scalar(intpolto, x0 = 0.5, bracket=[x[0],x[-1]]).root\n",
    "trpe=(abs(root-xtv)/xtv)*100\n",
    "\n",
    "print(f'\\nf(x)= {round(f(root),4)} when x is {round(root,4)}. \\\n",
    "the true relative percent error is {round(trpe,4)}%')"
   ]
  },
  {
   "cell_type": "markdown",
   "id": "43f6715a",
   "metadata": {},
   "source": [
    "#### (d) Use inverse interpolation with cubic interpolation and the bisection method. For parts (b) through (d) compute the true percent relative error."
   ]
  },
  {
   "cell_type": "code",
   "execution_count": 99,
   "id": "c2173859",
   "metadata": {
    "scrolled": true
   },
   "outputs": [
    {
     "name": "stdout",
     "output_type": "stream",
     "text": [
      "\n",
      "f(x)= 0.8453 when x is 2.3376. the true relative percent error is 1.8021%, cubic inverse interpolation \n",
      "\n",
      "f(x)= 0.85 when x is 2.3805. the true relative percent error is 0.0004%, bisection inverse interpolation \n"
     ]
    }
   ],
   "source": [
    "intpolc = sc.interpolate.interp1d(x, fx, kind=\"cubic\")\n",
    "fofx=.85\n",
    "\n",
    "def intpolcto(x):\n",
    "    return intpolc(x) - fofx\n",
    "\n",
    "root_c = (root_scalar(intpolcto, x0 = 0.5, bracket=[x[0], x[-1]])).root\n",
    "trpe_c=(abs(root_c-xtv)/xtv)*100\n",
    "print(f'\\nf(x)= {round(f(root_c),4)} when x is {round(root_c,4)}. \\\n",
    "the true relative percent error is {round(trpe_c,4)}%, cubic inverse interpolation ')\n",
    "\n",
    "def bisection(f, a, b, tol, x):\n",
    "    e = 100\n",
    "    oldmid=0\n",
    "    while (e > tol):\n",
    "        mid = (a+b)/2\n",
    "        if (f(mid)-x)*(f(a)-x) < 0:\n",
    "            b = mid\n",
    "        else:\n",
    "            a = mid\n",
    "        e = (b-a)/2\n",
    "    return mid\n",
    "\n",
    "root_b=bisection(f,x[0],x[-1],.00001,.85)\n",
    "trpe_b=(abs(root_b-xtv)/xtv)*100\n",
    "print(f'\\nf(x)= {round(f(root_b),4)} when x is {round(root_b,4)}. \\\n",
    "the true relative percent error is {round(trpe_b,4)}%, bisection inverse interpolation ')\n"
   ]
  },
  {
   "cell_type": "markdown",
   "id": "97d6c34a",
   "metadata": {},
   "source": [
    "#### (e) Plot on the same axes the data set as discrete points (in black), as well the analytical function (in red) and the interpolating functions from parts (b) through (d) in distinct colors. Be sure to add a legend to your plot to clearly identify the different functions that are included."
   ]
  },
  {
   "cell_type": "code",
   "execution_count": null,
   "id": "b01db084",
   "metadata": {},
   "outputs": [],
   "source": []
  },
  {
   "cell_type": "code",
   "execution_count": null,
   "id": "07d5b8c4",
   "metadata": {},
   "outputs": [],
   "source": []
  }
 ],
 "metadata": {
  "kernelspec": {
   "display_name": "Python 3 (ipykernel)",
   "language": "python",
   "name": "python3"
  },
  "language_info": {
   "codemirror_mode": {
    "name": "ipython",
    "version": 3
   },
   "file_extension": ".py",
   "mimetype": "text/x-python",
   "name": "python",
   "nbconvert_exporter": "python",
   "pygments_lexer": "ipython3",
   "version": "3.9.13"
  }
 },
 "nbformat": 4,
 "nbformat_minor": 5
}
